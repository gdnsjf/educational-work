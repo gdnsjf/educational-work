{
  "nbformat": 4,
  "nbformat_minor": 0,
  "metadata": {
    "colab": {
      "provenance": [],
      "authorship_tag": "ABX9TyNEDhTAj3TJlC706yHbXlVE",
      "include_colab_link": true
    },
    "kernelspec": {
      "name": "python3",
      "display_name": "Python 3"
    },
    "language_info": {
      "name": "python"
    }
  },
  "cells": [
    {
      "cell_type": "markdown",
      "metadata": {
        "id": "view-in-github",
        "colab_type": "text"
      },
      "source": [
        "<a href=\"https://colab.research.google.com/github/gdnsjf/educational-work/blob/main/PyTorch.ipynb\" target=\"_parent\"><img src=\"https://colab.research.google.com/assets/colab-badge.svg\" alt=\"Open In Colab\"/></a>"
      ]
    },
    {
      "cell_type": "markdown",
      "source": [
        "1. Используйте подход Нейронных Сетей (библиотека pytorch) и метод обратного распространения ошибки для данных находящихся по ссылке. Здесь - выходящей меткой (учителем) является столбец / атрибут - outcome.\n",
        "Данный датасет мы рассматривали на лекции с одним внутренним слоем. Постройте топологию Нейронной Сети с\n",
        "- 3 внутренними слоями (количество нейронов в сети пожалуйста подберите\n",
        "сами) - 4 внутренними слоями (количество нейронов в сети пожалуйста подберите\n",
        "сами)\n",
        "Сравните значения метрики качества (accuracy) между указанными топологиями.\n"
      ],
      "metadata": {
        "id": "rnQUcZcvN2Vn"
      }
    },
    {
      "cell_type": "code",
      "execution_count": null,
      "metadata": {
        "colab": {
          "base_uri": "https://localhost:8080/"
        },
        "id": "2bYKpO5sL9KC",
        "outputId": "6cdbbdf8-4be0-4179-a8bc-31522fdfcf63"
      },
      "outputs": [
        {
          "output_type": "stream",
          "name": "stdout",
          "text": [
            "Accuracy of the model with 3 layers: 74.03%\n",
            "Accuracy of the model with 4 layers: 68.18%\n"
          ]
        }
      ],
      "source": [
        "import torch\n",
        "import torch.nn as nn\n",
        "import torch.optim as optim\n",
        "from torch.utils.data import DataLoader, TensorDataset\n",
        "import pandas as pd\n",
        "from sklearn.model_selection import train_test_split\n",
        "from sklearn.preprocessing import StandardScaler\n",
        "\n",
        "# Загрузка данных\n",
        "data = pd.read_csv('dataset.csv')\n",
        "# Предположим, что 'outcome' - это столбец с метками\n",
        "X = data.drop('Outcome', axis=1).values\n",
        "y = data['Outcome'].values\n",
        "# Разделение данных на тренировочную и тестовую выборки\n",
        "X_train, X_test, y_train, y_test = train_test_split(X, y, test_size=0.2, random_state=42)\n",
        "\n",
        "# Стандартизация данных\n",
        "scaler = StandardScaler()\n",
        "X_train = scaler.fit_transform(X_train)\n",
        "X_test = scaler.transform(X_test)\n",
        "\n",
        "# Преобразование данных в тензоры PyTorch\n",
        "X_train = torch.tensor(X_train, dtype=torch.float32)\n",
        "y_train = torch.tensor(y_train, dtype=torch.long)\n",
        "X_test = torch.tensor(X_test, dtype=torch.float32)\n",
        "y_test = torch.tensor(y_test, dtype=torch.long)\n",
        "\n",
        "# Создание датасетов и загрузчиков данных\n",
        "train_dataset = TensorDataset(X_train, y_train)\n",
        "test_dataset = TensorDataset(X_test, y_test)\n",
        "\n",
        "train_loader = DataLoader(train_dataset, batch_size=32, shuffle=True)\n",
        "test_loader = DataLoader(test_dataset, batch_size=32, shuffle=False)\n",
        "class NeuralNet3Layers(nn.Module):\n",
        "    def __init__(self):\n",
        "        super(NeuralNet3Layers, self).__init__()\n",
        "        self.fc1 = nn.Linear(X_train.shape[1], 128)\n",
        "        self.fc2 = nn.Linear(128, 64)\n",
        "        self.fc3 = nn.Linear(64, 32)\n",
        "        self.fc4 = nn.Linear(32, 2)  # Предполагаем, что у нас 2 класса в выходе\n",
        "\n",
        "    def forward(self, x):\n",
        "        x = torch.relu(self.fc1(x))\n",
        "        x = torch.relu(self.fc2(x))\n",
        "        x = torch.relu(self.fc3(x))\n",
        "        x = self.fc4(x)\n",
        "        return x\n",
        "\n",
        "class NeuralNet4Layers(nn.Module):\n",
        "    def __init__(self):\n",
        "        super(NeuralNet4Layers, self).__init__()\n",
        "        self.fc1 = nn.Linear(X_train.shape[1], 128)\n",
        "        self.fc2 = nn.Linear(128, 64)\n",
        "        self.fc3 = nn.Linear(64, 32)\n",
        "        self.fc4 = nn.Linear(32, 16)\n",
        "        self.fc5 = nn.Linear(16, 2)  # Предполагаем, что у нас 2 класса в выходе\n",
        "\n",
        "    def forward(self, x):\n",
        "        x = torch.relu(self.fc1(x))\n",
        "        x = torch.relu(self.fc2(x))\n",
        "        x = torch.relu(self.fc3(x))\n",
        "        x = torch.relu(self.fc4(x))\n",
        "        x = self.fc5(x)\n",
        "        return x\n",
        "def train(model, train_loader, criterion, optimizer, epochs=20):\n",
        "    for epoch in range(epochs):\n",
        "        model.train()\n",
        "        for data, target in train_loader:\n",
        "            optimizer.zero_grad()\n",
        "            output = model(data)\n",
        "            loss = criterion(output, target)\n",
        "            loss.backward()\n",
        "            optimizer.step()\n",
        "\n",
        "def evaluate(model, test_loader):\n",
        "    model.eval()\n",
        "    correct = 0\n",
        "    total = 0\n",
        "    with torch.no_grad():\n",
        "        for data, target in test_loader:\n",
        "            outputs = model(data)\n",
        "            _, predicted = torch.max(outputs.data, 1)\n",
        "            total += target.size(0)\n",
        "            correct += (predicted == target).sum().item()\n",
        "    return correct / total\n",
        "\n",
        "# Инициализация моделей, критериев и оптимизаторов\n",
        "model3 = NeuralNet3Layers()\n",
        "model4 = NeuralNet4Layers()\n",
        "\n",
        "criterion = nn.CrossEntropyLoss()\n",
        "optimizer3 = optim.Adam(model3.parameters(), lr=0.001)\n",
        "optimizer4 = optim.Adam(model4.parameters(), lr=0.001)\n",
        "\n",
        "# Обучение моделей\n",
        "train(model3, train_loader, criterion, optimizer3, epochs=20)\n",
        "train(model4, train_loader, criterion, optimizer4, epochs=20)\n",
        "\n",
        "# Оценка моделей\n",
        "accuracy3 = evaluate(model3, test_loader)\n",
        "accuracy4 = evaluate(model4, test_loader)\n",
        "\n",
        "print(f'Accuracy of the model with 3 layers: {accuracy3 * 100:.2f}%')\n",
        "print(f'Accuracy of the model with 4 layers: {accuracy4 * 100:.2f}%')"
      ]
    },
    {
      "cell_type": "code",
      "source": [],
      "metadata": {
        "id": "u8qD7jZLNVb7"
      },
      "execution_count": null,
      "outputs": []
    }
  ]
}