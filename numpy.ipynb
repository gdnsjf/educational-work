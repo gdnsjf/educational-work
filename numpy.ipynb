{
  "cells": [
    {
      "cell_type": "markdown",
      "metadata": {
        "id": "view-in-github",
        "colab_type": "text"
      },
      "source": [
        "<a href=\"https://colab.research.google.com/github/gdnsjf/educational-work/blob/main/numpy.ipynb\" target=\"_parent\"><img src=\"https://colab.research.google.com/assets/colab-badge.svg\" alt=\"Open In Colab\"/></a>"
      ]
    },
    {
      "cell_type": "markdown",
      "id": "96443564",
      "metadata": {
        "id": "96443564"
      },
      "source": [
        "#### 1. Импортируйте пакет numpy под именем `np` (★☆☆)"
      ]
    },
    {
      "cell_type": "code",
      "execution_count": null,
      "id": "ffe1047e",
      "metadata": {
        "id": "ffe1047e"
      },
      "outputs": [],
      "source": [
        "import numpy as np"
      ]
    },
    {
      "cell_type": "markdown",
      "id": "572c1bdb",
      "metadata": {
        "id": "572c1bdb"
      },
      "source": [
        "#### 2. Создайте нулевой вектор размера 10 (★☆☆)"
      ]
    },
    {
      "cell_type": "code",
      "execution_count": null,
      "id": "31c9f6a5",
      "metadata": {
        "id": "31c9f6a5",
        "colab": {
          "base_uri": "https://localhost:8080/"
        },
        "outputId": "bc8ff607-c83d-471b-e5fb-1af323d1e254"
      },
      "outputs": [
        {
          "output_type": "execute_result",
          "data": {
            "text/plain": [
              "array([0., 0., 0., 0., 0., 0., 0., 0., 0., 0.])"
            ]
          },
          "metadata": {},
          "execution_count": 153
        }
      ],
      "source": [
        "a = np.zeros(10)\n",
        "a"
      ]
    },
    {
      "cell_type": "markdown",
      "id": "337e6e36",
      "metadata": {
        "id": "337e6e36"
      },
      "source": [
        "#### 3. Как узнать объем памяти любого массива (★☆☆)"
      ]
    },
    {
      "cell_type": "code",
      "execution_count": null,
      "id": "31e8ec2e",
      "metadata": {
        "id": "31e8ec2e",
        "colab": {
          "base_uri": "https://localhost:8080/"
        },
        "outputId": "5b0347bb-7f4b-442a-8fcb-7b89fee16797"
      },
      "outputs": [
        {
          "output_type": "execute_result",
          "data": {
            "text/plain": [
              "80"
            ]
          },
          "metadata": {},
          "execution_count": 154
        }
      ],
      "source": [
        "a.nbytes"
      ]
    },
    {
      "cell_type": "markdown",
      "id": "cfc46304",
      "metadata": {
        "id": "cfc46304"
      },
      "source": [
        "#### 4. Создайте вектор со значениями от 10 до 49. (★☆☆)"
      ]
    },
    {
      "cell_type": "code",
      "execution_count": null,
      "id": "d8b86640",
      "metadata": {
        "id": "d8b86640",
        "colab": {
          "base_uri": "https://localhost:8080/"
        },
        "outputId": "2430b4b2-bfa1-463a-c735-921c156e6e68"
      },
      "outputs": [
        {
          "output_type": "execute_result",
          "data": {
            "text/plain": [
              "array([10, 11, 12, 13, 14, 15, 16, 17, 18, 19, 20, 21, 22, 23, 24, 25, 26,\n",
              "       27, 28, 29, 30, 31, 32, 33, 34, 35, 36, 37, 38, 39, 40, 41, 42, 43,\n",
              "       44, 45, 46, 47, 48, 49])"
            ]
          },
          "metadata": {},
          "execution_count": 31
        }
      ],
      "source": [
        "a = np.arange(10, 50)\n",
        "a"
      ]
    },
    {
      "cell_type": "markdown",
      "id": "0cc200be",
      "metadata": {
        "id": "0cc200be"
      },
      "source": [
        "#### 5. Создайте обратный вектор из вектора в задании 4 (первый элемент становится последним) (★☆☆)"
      ]
    },
    {
      "cell_type": "code",
      "execution_count": null,
      "id": "ec044bb5",
      "metadata": {
        "id": "ec044bb5",
        "colab": {
          "base_uri": "https://localhost:8080/"
        },
        "outputId": "e810bdcb-497c-49de-b692-742d97eb653f"
      },
      "outputs": [
        {
          "output_type": "execute_result",
          "data": {
            "text/plain": [
              "array([49, 48, 47, 46, 45, 44, 43, 42, 41, 40, 39, 38, 37, 36, 35, 34, 33,\n",
              "       32, 31, 30, 29, 28, 27, 26, 25, 24, 23, 22, 21, 20, 19, 18, 17, 16,\n",
              "       15, 14, 13, 12, 11, 10])"
            ]
          },
          "metadata": {},
          "execution_count": 33
        }
      ],
      "source": [
        "a = np.arange(10, 50)\n",
        "a = a [:: - 1 ]\n",
        "a\n"
      ]
    },
    {
      "cell_type": "markdown",
      "id": "29d9ede4",
      "metadata": {
        "id": "29d9ede4"
      },
      "source": [
        "#### 6. Создайте матрицу 3x3 со значениями от 0 до 8. (★☆☆)"
      ]
    },
    {
      "cell_type": "code",
      "execution_count": null,
      "id": "d9e39043",
      "metadata": {
        "id": "d9e39043",
        "colab": {
          "base_uri": "https://localhost:8080/"
        },
        "outputId": "eb3c4aa8-c7ac-4f4b-f2b9-1b5688d4938a"
      },
      "outputs": [
        {
          "output_type": "execute_result",
          "data": {
            "text/plain": [
              "array([[0, 1, 2],\n",
              "       [3, 4, 5],\n",
              "       [6, 7, 8]])"
            ]
          },
          "metadata": {},
          "execution_count": 35
        }
      ],
      "source": [
        "a = np.arange(9).reshape(3, 3)\n",
        "a"
      ]
    },
    {
      "cell_type": "markdown",
      "id": "88905ceb",
      "metadata": {
        "id": "88905ceb"
      },
      "source": [
        "#### 7. Найти индексы ненулевых элементов из [1,2,0,0,4,0 (★☆☆)"
      ]
    },
    {
      "cell_type": "code",
      "execution_count": null,
      "id": "b2f3c90a",
      "metadata": {
        "id": "b2f3c90a",
        "colab": {
          "base_uri": "https://localhost:8080/"
        },
        "outputId": "6a8c4f70-cb13-4b37-956a-c923e24011e9"
      },
      "outputs": [
        {
          "output_type": "execute_result",
          "data": {
            "text/plain": [
              "(array([0, 1, 4]),)"
            ]
          },
          "metadata": {},
          "execution_count": 37
        }
      ],
      "source": [
        "a = np.nonzero([1, 2, 0, 0, 4, 0])\n",
        "a"
      ]
    },
    {
      "cell_type": "markdown",
      "id": "e15c249a",
      "metadata": {
        "id": "e15c249a"
      },
      "source": [
        "#### 8. Создайте массив 3x3x3 со случайными значениями (★☆☆)"
      ]
    },
    {
      "cell_type": "code",
      "execution_count": null,
      "id": "ab21ed50",
      "metadata": {
        "id": "ab21ed50",
        "colab": {
          "base_uri": "https://localhost:8080/"
        },
        "outputId": "93b56025-8a51-48c3-bfd2-e2de283e64e3"
      },
      "outputs": [
        {
          "output_type": "execute_result",
          "data": {
            "text/plain": [
              "array([[[0.0693234 , 0.50111413, 0.96767893],\n",
              "        [0.24202093, 0.42180022, 0.29876943],\n",
              "        [0.14839926, 0.70122713, 0.22713737]],\n",
              "\n",
              "       [[0.44583903, 0.96463886, 0.68539763],\n",
              "        [0.05632331, 0.9532382 , 0.24726226],\n",
              "        [0.200233  , 0.08686582, 0.83901712]],\n",
              "\n",
              "       [[0.54969273, 0.2863385 , 0.41184258],\n",
              "        [0.29518774, 0.13325266, 0.13442813],\n",
              "        [0.35428494, 0.17612903, 0.34988422]]])"
            ]
          },
          "metadata": {},
          "execution_count": 155
        }
      ],
      "source": [
        "a = np.random.rand(3, 3, 3)\n",
        "a"
      ]
    },
    {
      "cell_type": "markdown",
      "id": "157a129c",
      "metadata": {
        "id": "157a129c"
      },
      "source": [
        "#### 9. Создайте массив 10x10 со случайными значениями и найдите минимальное и максимальное значения. (★☆☆)"
      ]
    },
    {
      "cell_type": "code",
      "execution_count": null,
      "id": "c0066de5",
      "metadata": {
        "id": "c0066de5",
        "colab": {
          "base_uri": "https://localhost:8080/"
        },
        "outputId": "3a09f38f-77af-47c8-8a30-a811873e0391"
      },
      "outputs": [
        {
          "output_type": "execute_result",
          "data": {
            "text/plain": [
              "(array([[0.44356647, 0.04978938, 0.73218712, 0.46819387, 0.52720483,\n",
              "         0.92114802, 0.421254  , 0.62509067, 0.49482487, 0.90573066],\n",
              "        [0.18527628, 0.4087148 , 0.82411262, 0.29373582, 0.04267016,\n",
              "         0.07892575, 0.18696035, 0.78142761, 0.7060634 , 0.76201572],\n",
              "        [0.7945148 , 0.38577898, 0.18118758, 0.85098838, 0.69790037,\n",
              "         0.78549524, 0.87812869, 0.11763611, 0.15086281, 0.92534661],\n",
              "        [0.81862665, 0.70464283, 0.45041081, 0.17677884, 0.50304565,\n",
              "         0.62810899, 0.49941153, 0.87702887, 0.6022777 , 0.28164951],\n",
              "        [0.20011015, 0.3880459 , 0.89980528, 0.58083097, 0.04567486,\n",
              "         0.13188241, 0.23705355, 0.49832067, 0.6633612 , 0.16723831],\n",
              "        [0.09657308, 0.92396596, 0.21230508, 0.34080755, 0.26604908,\n",
              "         0.34690986, 0.39910724, 0.65200649, 0.61220984, 0.27588132],\n",
              "        [0.32943889, 0.22534888, 0.57022352, 0.10836245, 0.78921819,\n",
              "         0.6335219 , 0.27913404, 0.34379525, 0.91544871, 0.60929318],\n",
              "        [0.41518618, 0.96748417, 0.02577577, 0.60387824, 0.48545127,\n",
              "         0.62269544, 0.32019607, 0.54902564, 0.24026667, 0.13610742],\n",
              "        [0.58407257, 0.3736976 , 0.13299803, 0.56991134, 0.11761024,\n",
              "         0.19699178, 0.7468395 , 0.86474353, 0.36933979, 0.83347242],\n",
              "        [0.25671399, 0.36578543, 0.70733699, 0.93581529, 0.98963005,\n",
              "         0.37567668, 0.25109017, 0.72111022, 0.92450222, 0.16946993]]),\n",
              " 0.02577577443497714,\n",
              " 0.9896300469405733)"
            ]
          },
          "metadata": {},
          "execution_count": 156
        }
      ],
      "source": [
        "a = np.random.rand(10, 10)\n",
        "a, a.min(), a.max()"
      ]
    },
    {
      "cell_type": "markdown",
      "id": "d92d7b32",
      "metadata": {
        "id": "d92d7b32"
      },
      "source": [
        "#### 10. Создайте случайный вектор размера 30 и найдите среднее значение(★☆☆)"
      ]
    },
    {
      "cell_type": "code",
      "execution_count": null,
      "id": "9672d023",
      "metadata": {
        "id": "9672d023",
        "colab": {
          "base_uri": "https://localhost:8080/"
        },
        "outputId": "b34faf0d-cae3-4b80-e0ff-abe469321822"
      },
      "outputs": [
        {
          "output_type": "execute_result",
          "data": {
            "text/plain": [
              "(array([0.83067503, 0.26362541, 0.89076606, 0.16424368, 0.54146835,\n",
              "        0.31337061, 0.76546695, 0.95010954, 0.53698724, 0.75017211,\n",
              "        0.32663843, 0.30054945, 0.08132841, 0.51388672, 0.43234797,\n",
              "        0.05990923, 0.137007  , 0.90696156, 0.45972746, 0.78132864,\n",
              "        0.93780456, 0.72518021, 0.35773678, 0.39287669, 0.58572785,\n",
              "        0.61544453, 0.71751971, 0.62962417, 0.76239198, 0.35598795]),\n",
              " 0.5362288087237675)"
            ]
          },
          "metadata": {},
          "execution_count": 157
        }
      ],
      "source": [
        "a = np.random.rand(30)\n",
        "a, a.mean()"
      ]
    },
    {
      "cell_type": "markdown",
      "id": "f361efc0",
      "metadata": {
        "id": "f361efc0"
      },
      "source": [
        "#### 11. Создайте массив 2d 2x3 c 1 на границе и 0 внутри (★☆☆)"
      ]
    },
    {
      "cell_type": "code",
      "execution_count": null,
      "id": "a55b6666",
      "metadata": {
        "id": "a55b6666",
        "colab": {
          "base_uri": "https://localhost:8080/"
        },
        "outputId": "e14c3fbe-1aa1-4e79-f0e4-9045b7749246"
      },
      "outputs": [
        {
          "output_type": "execute_result",
          "data": {
            "text/plain": [
              "array([[1., 1., 1.],\n",
              "       [1., 0., 1.],\n",
              "       [1., 1., 1.]])"
            ]
          },
          "metadata": {},
          "execution_count": 158
        }
      ],
      "source": [
        "a = np.ones((3, 3))\n",
        "a[1:-1, 1:-1] = 0\n",
        "a"
      ]
    },
    {
      "cell_type": "markdown",
      "id": "1af07d85",
      "metadata": {
        "id": "1af07d85"
      },
      "source": [
        "#### 12. Каков результат следующего выражения? (★☆☆)\n",
        "```python\n",
        "0 * np.nan\n",
        "np.nan == np.nan\n",
        "np.inf > np.nan\n",
        "np.nan - np.nan\n",
        "np.nan in set([np.nan])\n",
        "0.3 == 3 * 0.1\n",
        "```"
      ]
    },
    {
      "cell_type": "code",
      "execution_count": null,
      "id": "109cf327",
      "metadata": {
        "id": "109cf327",
        "colab": {
          "base_uri": "https://localhost:8080/"
        },
        "outputId": "8e592bbc-3343-4c60-e21b-2dab600754d8"
      },
      "outputs": [
        {
          "output_type": "stream",
          "name": "stdout",
          "text": [
            "nan\n",
            "False\n",
            "False\n",
            "nan\n",
            "True\n",
            "False\n"
          ]
        }
      ],
      "source": [
        "print(0 * np.nan)\n",
        "print(np.nan == np.nan)\n",
        "print(np.inf > np.nan)\n",
        "print(np.nan - np.nan)\n",
        "print(np.nan in set([np.nan]))\n",
        "print(0.3 == 3 * 0.1)"
      ]
    },
    {
      "cell_type": "markdown",
      "id": "6431e977",
      "metadata": {
        "id": "6431e977"
      },
      "source": [
        "#### 13. Рассмотрим массив размера (6,7,8). Каков индекс (x,y,z) 100-го элемента? (★☆☆)"
      ]
    },
    {
      "cell_type": "code",
      "execution_count": null,
      "id": "de8b0245",
      "metadata": {
        "id": "de8b0245",
        "colab": {
          "base_uri": "https://localhost:8080/"
        },
        "outputId": "293be042-c334-43dd-c827-04a33952f26b"
      },
      "outputs": [
        {
          "output_type": "execute_result",
          "data": {
            "text/plain": [
              "(1, 5, 3)"
            ]
          },
          "metadata": {},
          "execution_count": 160
        }
      ],
      "source": [
        "np.unravel_index(99, (6,7,8))"
      ]
    },
    {
      "cell_type": "markdown",
      "id": "06c63bb3",
      "metadata": {
        "id": "06c63bb3"
      },
      "source": [
        "#### 14. Умножить матрицу 5x3 на матрицу 3x2(★☆☆)"
      ]
    },
    {
      "cell_type": "code",
      "execution_count": null,
      "id": "9fc0d553",
      "metadata": {
        "id": "9fc0d553",
        "colab": {
          "base_uri": "https://localhost:8080/"
        },
        "outputId": "3e6637e0-0ba8-4c59-dbea-8c6acd52024f"
      },
      "outputs": [
        {
          "output_type": "execute_result",
          "data": {
            "text/plain": [
              "array([[3., 3.],\n",
              "       [3., 3.],\n",
              "       [3., 3.],\n",
              "       [3., 3.],\n",
              "       [3., 3.]])"
            ]
          },
          "metadata": {},
          "execution_count": 33
        }
      ],
      "source": [
        "a = np.ones((5, 3))\n",
        "b = np.ones((3, 2))\n",
        "c = np.dot(a, b)\n",
        "c"
      ]
    },
    {
      "cell_type": "markdown",
      "id": "76fa6285",
      "metadata": {
        "id": "76fa6285"
      },
      "source": [
        "#### 15. Создайте одномерный массив со случайными значениями от 1 до 10, инвертируйте (поменяйте местами) все элементы, со значениями 3 и 8. (★☆☆)"
      ]
    },
    {
      "cell_type": "code",
      "execution_count": null,
      "id": "0e25eca7",
      "metadata": {
        "id": "0e25eca7",
        "colab": {
          "base_uri": "https://localhost:8080/"
        },
        "outputId": "5feb3100-7114-4851-f7d4-8355a983cbe5"
      },
      "outputs": [
        {
          "output_type": "execute_result",
          "data": {
            "text/plain": [
              "array([1, 2, 8, 4, 5, 6, 7, 3, 9])"
            ]
          },
          "metadata": {},
          "execution_count": 51
        }
      ],
      "source": [
        "a = np.arange(1,10)\n",
        "a[2], a[7] = a[7], a[2]\n",
        "a"
      ]
    },
    {
      "cell_type": "markdown",
      "id": "a6eaf0e8",
      "metadata": {
        "id": "a6eaf0e8"
      },
      "source": [
        "#### 16. Каков результат следующих выражений? (★☆☆)\n",
        "```python\n",
        "np.array(0) / np.array(0)\n",
        "np.array(0) // np.array(0)\n",
        "np.array([np.nan]).astype(int).astype(float)\n",
        "```"
      ]
    },
    {
      "cell_type": "code",
      "execution_count": null,
      "id": "93684068",
      "metadata": {
        "id": "93684068",
        "colab": {
          "base_uri": "https://localhost:8080/"
        },
        "outputId": "865dda00-e316-4556-c6c4-7110b20d4827"
      },
      "outputs": [
        {
          "output_type": "stream",
          "name": "stdout",
          "text": [
            "nan\n",
            "0\n",
            "[-9.22337204e+18]\n"
          ]
        },
        {
          "output_type": "stream",
          "name": "stderr",
          "text": [
            "<ipython-input-9-2a10de0ee61b>:1: RuntimeWarning: invalid value encountered in divide\n",
            "  print(np.array(0) / np.array(0))\n",
            "<ipython-input-9-2a10de0ee61b>:2: RuntimeWarning: divide by zero encountered in floor_divide\n",
            "  print(np.array(0) // np.array(0))\n",
            "<ipython-input-9-2a10de0ee61b>:3: RuntimeWarning: invalid value encountered in cast\n",
            "  print(np.array([np.nan]).astype(int).astype(float))\n"
          ]
        }
      ],
      "source": [
        "print(np.array(0) / np.array(0))\n",
        "print(np.array(0) // np.array(0))\n",
        "print(np.array([np.nan]).astype(int).astype(float))"
      ]
    },
    {
      "cell_type": "markdown",
      "id": "8dc40752",
      "metadata": {
        "id": "8dc40752"
      },
      "source": [
        "#### 17. Как найти общие значения между двумя массивами? (★☆☆)"
      ]
    },
    {
      "cell_type": "code",
      "execution_count": null,
      "id": "54399cbe",
      "metadata": {
        "id": "54399cbe",
        "colab": {
          "base_uri": "https://localhost:8080/"
        },
        "outputId": "129aef4d-2b70-408a-9308-fb7116c1c1b0"
      },
      "outputs": [
        {
          "output_type": "stream",
          "name": "stdout",
          "text": [
            "[8 9 7 1 5 2 7 1 2 5]\n",
            "[9 4 4 4 3 3 9 9 5 3]\n",
            "[5 9]\n"
          ]
        }
      ],
      "source": [
        "a = np.random.randint(1, 10, 10)\n",
        "print(a)\n",
        "b = np.random.randint(1, 10, 10)\n",
        "print(b)\n",
        "print(np.intersect1d(a, b))"
      ]
    },
    {
      "cell_type": "markdown",
      "id": "52667b6e",
      "metadata": {
        "id": "52667b6e"
      },
      "source": [
        "#### 18. Как вычислить ((A+B)*(-A/2)) с заменой массива А (без копирования)? (★★☆)"
      ]
    },
    {
      "cell_type": "code",
      "execution_count": null,
      "id": "e6e7c030",
      "metadata": {
        "id": "e6e7c030",
        "colab": {
          "base_uri": "https://localhost:8080/"
        },
        "outputId": "ade0bdee-13d1-4b73-a974-0f028bf20860"
      },
      "outputs": [
        {
          "output_type": "stream",
          "name": "stdout",
          "text": [
            "[2. 2. 2.]\n",
            "[2. 2. 2.]\n"
          ]
        },
        {
          "output_type": "execute_result",
          "data": {
            "text/plain": [
              "array([-4., -4., -4.])"
            ]
          },
          "metadata": {},
          "execution_count": 21
        }
      ],
      "source": [
        "a = np.ones(3) * 2\n",
        "print(a)\n",
        "b = np.ones(3) * 2\n",
        "print(b)\n",
        "np.add(a, b, b)\n",
        "np.divide(a, 2, a)\n",
        "np.negative(a, a)\n",
        "np.multiply(a, b, a)"
      ]
    },
    {
      "cell_type": "markdown",
      "id": "cab1eed1",
      "metadata": {
        "id": "cab1eed1"
      },
      "source": [
        "#### 19. Создайте матрицу 5x5 со значениями строк от 0 до 4. (★★☆)"
      ]
    },
    {
      "cell_type": "code",
      "execution_count": null,
      "id": "f1b579ba",
      "metadata": {
        "id": "f1b579ba",
        "colab": {
          "base_uri": "https://localhost:8080/"
        },
        "outputId": "ba2c28a3-cfe3-4ceb-b4e7-2afd68f514ab"
      },
      "outputs": [
        {
          "output_type": "execute_result",
          "data": {
            "text/plain": [
              "array([[0., 1., 2., 3., 4.],\n",
              "       [0., 1., 2., 3., 4.],\n",
              "       [0., 1., 2., 3., 4.],\n",
              "       [0., 1., 2., 3., 4.],\n",
              "       [0., 1., 2., 3., 4.]])"
            ]
          },
          "metadata": {},
          "execution_count": 25
        }
      ],
      "source": [
        "a = np.zeros((5, 5))\n",
        "a += np.arange(5)\n",
        "a"
      ]
    },
    {
      "cell_type": "markdown",
      "id": "c4c942d1",
      "metadata": {
        "id": "c4c942d1"
      },
      "source": [
        "#### 20. Создайте вектор размера 10 со значениями в диапазоне от 0 до 1, исключая 1 и 0 (★★☆)"
      ]
    },
    {
      "cell_type": "code",
      "execution_count": null,
      "id": "e42eaa4b",
      "metadata": {
        "id": "e42eaa4b",
        "colab": {
          "base_uri": "https://localhost:8080/"
        },
        "outputId": "aa03ce30-c967-4a8a-c4a1-94b60ada6497"
      },
      "outputs": [
        {
          "output_type": "execute_result",
          "data": {
            "text/plain": [
              "array([0.09090909, 0.18181818, 0.27272727, 0.36363636, 0.45454545,\n",
              "       0.54545455, 0.63636364, 0.72727273, 0.81818182, 0.90909091])"
            ]
          },
          "metadata": {},
          "execution_count": 31
        }
      ],
      "source": [
        "a = np.linspace(0, 1, 11, endpoint=False) [1:]\n",
        "a"
      ]
    },
    {
      "cell_type": "markdown",
      "id": "9b3cb8d2",
      "metadata": {
        "id": "9b3cb8d2"
      },
      "source": [
        "#### 21. Создайте случайный вектор размера 10 и отсортируйте его (★★☆)"
      ]
    },
    {
      "cell_type": "code",
      "execution_count": null,
      "id": "37d2b341",
      "metadata": {
        "id": "37d2b341",
        "colab": {
          "base_uri": "https://localhost:8080/"
        },
        "outputId": "9b7c13a1-d58c-4881-ad83-cc33824a5474"
      },
      "outputs": [
        {
          "output_type": "execute_result",
          "data": {
            "text/plain": [
              "array([ 4,  7, 15, 38, 41, 48, 49, 54, 76, 98])"
            ]
          },
          "metadata": {},
          "execution_count": 48
        }
      ],
      "source": [
        "a = np.random.randint(1, 100, 10)\n",
        "a.sort()\n",
        "a"
      ]
    },
    {
      "cell_type": "markdown",
      "id": "2facfddc",
      "metadata": {
        "id": "2facfddc"
      },
      "source": [
        "#### 22. Можно ли суммировать небольшой массив быстрее, чем np.sum? (★★☆)"
      ]
    },
    {
      "cell_type": "code",
      "execution_count": null,
      "id": "4bb8864f",
      "metadata": {
        "id": "4bb8864f",
        "colab": {
          "base_uri": "https://localhost:8080/"
        },
        "outputId": "96ec102e-ae5d-4964-a368-084493efa6ad"
      },
      "outputs": [
        {
          "output_type": "stream",
          "name": "stdout",
          "text": [
            "CPU times: user 59 µs, sys: 6 µs, total: 65 µs\n",
            "Wall time: 68.9 µs\n",
            "CPU times: user 78 µs, sys: 4 µs, total: 82 µs\n",
            "Wall time: 96.8 µs\n"
          ]
        },
        {
          "output_type": "execute_result",
          "data": {
            "text/plain": [
              "45"
            ]
          },
          "metadata": {},
          "execution_count": 56
        }
      ],
      "source": [
        "a = np.arange(10)\n",
        "%time np.add.reduce(a)\n",
        "%time np.sum(a)"
      ]
    },
    {
      "cell_type": "markdown",
      "id": "539cd2a5",
      "metadata": {
        "id": "539cd2a5"
      },
      "source": [
        "#### 23. Рассмотрим два случайных массива A и B, проверьте, равны ли они(★★☆)"
      ]
    },
    {
      "cell_type": "code",
      "execution_count": null,
      "id": "5246d7bf",
      "metadata": {
        "id": "5246d7bf",
        "colab": {
          "base_uri": "https://localhost:8080/"
        },
        "outputId": "e35b159f-990b-4778-b542-44a382518001"
      },
      "outputs": [
        {
          "output_type": "stream",
          "name": "stdout",
          "text": [
            "[2 3 4 1 5 2 4 6 5 8]\n",
            "[5 1 3 3 2 6 6 7 2 1]\n"
          ]
        },
        {
          "output_type": "execute_result",
          "data": {
            "text/plain": [
              "False"
            ]
          },
          "metadata": {},
          "execution_count": 162
        }
      ],
      "source": [
        "a = np.random.randint(1, 10, 10)\n",
        "print(a)\n",
        "b = np.random.randint(1, 10, 10)\n",
        "print(b)\n",
        "c = np.allclose(a, b)\n",
        "c"
      ]
    },
    {
      "cell_type": "markdown",
      "id": "a556027a",
      "metadata": {
        "id": "a556027a"
      },
      "source": [
        "#### 24. Создайте случайный вектор размера 10 и замените максимальное значение на 0 (★★☆)"
      ]
    },
    {
      "cell_type": "code",
      "execution_count": null,
      "id": "9e07cb87",
      "metadata": {
        "id": "9e07cb87",
        "colab": {
          "base_uri": "https://localhost:8080/"
        },
        "outputId": "9bbf60f9-a128-4736-f2bd-2faf82dfa1a7"
      },
      "outputs": [
        {
          "output_type": "stream",
          "name": "stdout",
          "text": [
            "[76  4 43 27 61 36 90 70 25 40]\n"
          ]
        },
        {
          "output_type": "execute_result",
          "data": {
            "text/plain": [
              "array([76,  4, 43, 27, 61, 36,  0, 70, 25, 40])"
            ]
          },
          "metadata": {},
          "execution_count": 64
        }
      ],
      "source": [
        "a = np.random.randint(1, 100, 10)\n",
        "print(a)\n",
        "a[a.argmax()] = 0\n",
        "a"
      ]
    },
    {
      "cell_type": "markdown",
      "id": "c8a2f65a",
      "metadata": {
        "id": "c8a2f65a"
      },
      "source": [
        "#### 25. Распечатайте минимальное и максимальное представимое значение для каждого скалярного типа numpy (★★☆)"
      ]
    },
    {
      "cell_type": "code",
      "execution_count": null,
      "id": "35d844d6",
      "metadata": {
        "id": "35d844d6",
        "colab": {
          "base_uri": "https://localhost:8080/"
        },
        "outputId": "347353f9-318c-47e7-9db7-3e12c82b243a"
      },
      "outputs": [
        {
          "output_type": "stream",
          "name": "stdout",
          "text": [
            "int8 -128 127\n",
            "int32 -2147483648 2147483647\n",
            "int64 -9223372036854775808 9223372036854775807\n",
            "float32 -3.4028235e+38 3.4028235e+38\n",
            "float64 -1.7976931348623157e+308 1.7976931348623157e+308\n"
          ]
        }
      ],
      "source": [
        "for dtype in [np.int8, np.int32, np.int64]:\n",
        "   print(dtype.__name__, np.iinfo(dtype).min, np.iinfo(dtype).max)\n",
        "for dtype in [np.float32, np.float64]:\n",
        "   print(dtype.__name__, np.finfo(dtype).min, np.finfo(dtype).max)"
      ]
    },
    {
      "cell_type": "markdown",
      "id": "11727a69",
      "metadata": {
        "id": "11727a69"
      },
      "source": [
        "#### 26. Как вывести все значения большого массива? (★★☆)"
      ]
    },
    {
      "cell_type": "code",
      "execution_count": null,
      "id": "47e98473",
      "metadata": {
        "id": "47e98473",
        "colab": {
          "base_uri": "https://localhost:8080/"
        },
        "outputId": "5da7af91-bd47-4644-d3a1-e6f72416075b"
      },
      "outputs": [
        {
          "output_type": "stream",
          "name": "stdout",
          "text": [
            "[[1. 1. 1. 1. 1. 1. 1. 1. 1. 1. 1. 1. 1. 1. 1. 1. 1. 1. 1. 1. 1. 1. 1. 1.\n",
            "  1. 1. 1. 1. 1. 1. 1. 1. 1. 1. 1. 1. 1. 1. 1. 1.]\n",
            " [1. 1. 1. 1. 1. 1. 1. 1. 1. 1. 1. 1. 1. 1. 1. 1. 1. 1. 1. 1. 1. 1. 1. 1.\n",
            "  1. 1. 1. 1. 1. 1. 1. 1. 1. 1. 1. 1. 1. 1. 1. 1.]\n",
            " [1. 1. 1. 1. 1. 1. 1. 1. 1. 1. 1. 1. 1. 1. 1. 1. 1. 1. 1. 1. 1. 1. 1. 1.\n",
            "  1. 1. 1. 1. 1. 1. 1. 1. 1. 1. 1. 1. 1. 1. 1. 1.]\n",
            " [1. 1. 1. 1. 1. 1. 1. 1. 1. 1. 1. 1. 1. 1. 1. 1. 1. 1. 1. 1. 1. 1. 1. 1.\n",
            "  1. 1. 1. 1. 1. 1. 1. 1. 1. 1. 1. 1. 1. 1. 1. 1.]\n",
            " [1. 1. 1. 1. 1. 1. 1. 1. 1. 1. 1. 1. 1. 1. 1. 1. 1. 1. 1. 1. 1. 1. 1. 1.\n",
            "  1. 1. 1. 1. 1. 1. 1. 1. 1. 1. 1. 1. 1. 1. 1. 1.]\n",
            " [1. 1. 1. 1. 1. 1. 1. 1. 1. 1. 1. 1. 1. 1. 1. 1. 1. 1. 1. 1. 1. 1. 1. 1.\n",
            "  1. 1. 1. 1. 1. 1. 1. 1. 1. 1. 1. 1. 1. 1. 1. 1.]\n",
            " [1. 1. 1. 1. 1. 1. 1. 1. 1. 1. 1. 1. 1. 1. 1. 1. 1. 1. 1. 1. 1. 1. 1. 1.\n",
            "  1. 1. 1. 1. 1. 1. 1. 1. 1. 1. 1. 1. 1. 1. 1. 1.]\n",
            " [1. 1. 1. 1. 1. 1. 1. 1. 1. 1. 1. 1. 1. 1. 1. 1. 1. 1. 1. 1. 1. 1. 1. 1.\n",
            "  1. 1. 1. 1. 1. 1. 1. 1. 1. 1. 1. 1. 1. 1. 1. 1.]\n",
            " [1. 1. 1. 1. 1. 1. 1. 1. 1. 1. 1. 1. 1. 1. 1. 1. 1. 1. 1. 1. 1. 1. 1. 1.\n",
            "  1. 1. 1. 1. 1. 1. 1. 1. 1. 1. 1. 1. 1. 1. 1. 1.]\n",
            " [1. 1. 1. 1. 1. 1. 1. 1. 1. 1. 1. 1. 1. 1. 1. 1. 1. 1. 1. 1. 1. 1. 1. 1.\n",
            "  1. 1. 1. 1. 1. 1. 1. 1. 1. 1. 1. 1. 1. 1. 1. 1.]\n",
            " [1. 1. 1. 1. 1. 1. 1. 1. 1. 1. 1. 1. 1. 1. 1. 1. 1. 1. 1. 1. 1. 1. 1. 1.\n",
            "  1. 1. 1. 1. 1. 1. 1. 1. 1. 1. 1. 1. 1. 1. 1. 1.]\n",
            " [1. 1. 1. 1. 1. 1. 1. 1. 1. 1. 1. 1. 1. 1. 1. 1. 1. 1. 1. 1. 1. 1. 1. 1.\n",
            "  1. 1. 1. 1. 1. 1. 1. 1. 1. 1. 1. 1. 1. 1. 1. 1.]\n",
            " [1. 1. 1. 1. 1. 1. 1. 1. 1. 1. 1. 1. 1. 1. 1. 1. 1. 1. 1. 1. 1. 1. 1. 1.\n",
            "  1. 1. 1. 1. 1. 1. 1. 1. 1. 1. 1. 1. 1. 1. 1. 1.]\n",
            " [1. 1. 1. 1. 1. 1. 1. 1. 1. 1. 1. 1. 1. 1. 1. 1. 1. 1. 1. 1. 1. 1. 1. 1.\n",
            "  1. 1. 1. 1. 1. 1. 1. 1. 1. 1. 1. 1. 1. 1. 1. 1.]\n",
            " [1. 1. 1. 1. 1. 1. 1. 1. 1. 1. 1. 1. 1. 1. 1. 1. 1. 1. 1. 1. 1. 1. 1. 1.\n",
            "  1. 1. 1. 1. 1. 1. 1. 1. 1. 1. 1. 1. 1. 1. 1. 1.]\n",
            " [1. 1. 1. 1. 1. 1. 1. 1. 1. 1. 1. 1. 1. 1. 1. 1. 1. 1. 1. 1. 1. 1. 1. 1.\n",
            "  1. 1. 1. 1. 1. 1. 1. 1. 1. 1. 1. 1. 1. 1. 1. 1.]\n",
            " [1. 1. 1. 1. 1. 1. 1. 1. 1. 1. 1. 1. 1. 1. 1. 1. 1. 1. 1. 1. 1. 1. 1. 1.\n",
            "  1. 1. 1. 1. 1. 1. 1. 1. 1. 1. 1. 1. 1. 1. 1. 1.]\n",
            " [1. 1. 1. 1. 1. 1. 1. 1. 1. 1. 1. 1. 1. 1. 1. 1. 1. 1. 1. 1. 1. 1. 1. 1.\n",
            "  1. 1. 1. 1. 1. 1. 1. 1. 1. 1. 1. 1. 1. 1. 1. 1.]\n",
            " [1. 1. 1. 1. 1. 1. 1. 1. 1. 1. 1. 1. 1. 1. 1. 1. 1. 1. 1. 1. 1. 1. 1. 1.\n",
            "  1. 1. 1. 1. 1. 1. 1. 1. 1. 1. 1. 1. 1. 1. 1. 1.]\n",
            " [1. 1. 1. 1. 1. 1. 1. 1. 1. 1. 1. 1. 1. 1. 1. 1. 1. 1. 1. 1. 1. 1. 1. 1.\n",
            "  1. 1. 1. 1. 1. 1. 1. 1. 1. 1. 1. 1. 1. 1. 1. 1.]\n",
            " [1. 1. 1. 1. 1. 1. 1. 1. 1. 1. 1. 1. 1. 1. 1. 1. 1. 1. 1. 1. 1. 1. 1. 1.\n",
            "  1. 1. 1. 1. 1. 1. 1. 1. 1. 1. 1. 1. 1. 1. 1. 1.]\n",
            " [1. 1. 1. 1. 1. 1. 1. 1. 1. 1. 1. 1. 1. 1. 1. 1. 1. 1. 1. 1. 1. 1. 1. 1.\n",
            "  1. 1. 1. 1. 1. 1. 1. 1. 1. 1. 1. 1. 1. 1. 1. 1.]\n",
            " [1. 1. 1. 1. 1. 1. 1. 1. 1. 1. 1. 1. 1. 1. 1. 1. 1. 1. 1. 1. 1. 1. 1. 1.\n",
            "  1. 1. 1. 1. 1. 1. 1. 1. 1. 1. 1. 1. 1. 1. 1. 1.]\n",
            " [1. 1. 1. 1. 1. 1. 1. 1. 1. 1. 1. 1. 1. 1. 1. 1. 1. 1. 1. 1. 1. 1. 1. 1.\n",
            "  1. 1. 1. 1. 1. 1. 1. 1. 1. 1. 1. 1. 1. 1. 1. 1.]\n",
            " [1. 1. 1. 1. 1. 1. 1. 1. 1. 1. 1. 1. 1. 1. 1. 1. 1. 1. 1. 1. 1. 1. 1. 1.\n",
            "  1. 1. 1. 1. 1. 1. 1. 1. 1. 1. 1. 1. 1. 1. 1. 1.]\n",
            " [1. 1. 1. 1. 1. 1. 1. 1. 1. 1. 1. 1. 1. 1. 1. 1. 1. 1. 1. 1. 1. 1. 1. 1.\n",
            "  1. 1. 1. 1. 1. 1. 1. 1. 1. 1. 1. 1. 1. 1. 1. 1.]\n",
            " [1. 1. 1. 1. 1. 1. 1. 1. 1. 1. 1. 1. 1. 1. 1. 1. 1. 1. 1. 1. 1. 1. 1. 1.\n",
            "  1. 1. 1. 1. 1. 1. 1. 1. 1. 1. 1. 1. 1. 1. 1. 1.]\n",
            " [1. 1. 1. 1. 1. 1. 1. 1. 1. 1. 1. 1. 1. 1. 1. 1. 1. 1. 1. 1. 1. 1. 1. 1.\n",
            "  1. 1. 1. 1. 1. 1. 1. 1. 1. 1. 1. 1. 1. 1. 1. 1.]\n",
            " [1. 1. 1. 1. 1. 1. 1. 1. 1. 1. 1. 1. 1. 1. 1. 1. 1. 1. 1. 1. 1. 1. 1. 1.\n",
            "  1. 1. 1. 1. 1. 1. 1. 1. 1. 1. 1. 1. 1. 1. 1. 1.]\n",
            " [1. 1. 1. 1. 1. 1. 1. 1. 1. 1. 1. 1. 1. 1. 1. 1. 1. 1. 1. 1. 1. 1. 1. 1.\n",
            "  1. 1. 1. 1. 1. 1. 1. 1. 1. 1. 1. 1. 1. 1. 1. 1.]]\n"
          ]
        }
      ],
      "source": [
        "np.set_printoptions(threshold = float(\"inf\"))\n",
        "a = np.ones((30, 40))\n",
        "print(a)"
      ]
    },
    {
      "cell_type": "markdown",
      "id": "d22b8574",
      "metadata": {
        "id": "d22b8574"
      },
      "source": [
        "#### 27. Рассмотрим случайный вектор формы (100,2), представляющий координаты, найдите расстояния между точками. (★★☆)"
      ]
    },
    {
      "cell_type": "code",
      "execution_count": null,
      "id": "d5c9cdf8",
      "metadata": {
        "id": "d5c9cdf8",
        "colab": {
          "base_uri": "https://localhost:8080/"
        },
        "outputId": "c5dcf8ab-a30e-49e4-9d12-850118a6fd55"
      },
      "outputs": [
        {
          "output_type": "stream",
          "name": "stdout",
          "text": [
            "[[  0.   0.]\n",
            " [  3.   4.]\n",
            " [  6.   8.]\n",
            " [  9.  12.]\n",
            " [ 12.  16.]\n",
            " [ 15.  20.]\n",
            " [ 18.  24.]\n",
            " [ 21.  28.]\n",
            " [ 24.  32.]\n",
            " [ 27.  36.]\n",
            " [ 30.  40.]\n",
            " [ 33.  44.]\n",
            " [ 36.  48.]\n",
            " [ 39.  52.]\n",
            " [ 42.  56.]\n",
            " [ 45.  60.]\n",
            " [ 48.  64.]\n",
            " [ 51.  68.]\n",
            " [ 54.  72.]\n",
            " [ 57.  76.]\n",
            " [ 60.  80.]\n",
            " [ 63.  84.]\n",
            " [ 66.  88.]\n",
            " [ 69.  92.]\n",
            " [ 72.  96.]\n",
            " [ 75. 100.]\n",
            " [ 78. 104.]\n",
            " [ 81. 108.]\n",
            " [ 84. 112.]\n",
            " [ 87. 116.]\n",
            " [ 90. 120.]\n",
            " [ 93. 124.]\n",
            " [ 96. 128.]\n",
            " [ 99. 132.]\n",
            " [102. 136.]\n",
            " [105. 140.]\n",
            " [108. 144.]\n",
            " [111. 148.]\n",
            " [114. 152.]\n",
            " [117. 156.]\n",
            " [120. 160.]\n",
            " [123. 164.]\n",
            " [126. 168.]\n",
            " [129. 172.]\n",
            " [132. 176.]\n",
            " [135. 180.]\n",
            " [138. 184.]\n",
            " [141. 188.]\n",
            " [144. 192.]\n",
            " [147. 196.]\n",
            " [150. 200.]\n",
            " [153. 204.]\n",
            " [156. 208.]\n",
            " [159. 212.]\n",
            " [162. 216.]\n",
            " [165. 220.]\n",
            " [168. 224.]\n",
            " [171. 228.]\n",
            " [174. 232.]\n",
            " [177. 236.]\n",
            " [180. 240.]\n",
            " [183. 244.]\n",
            " [186. 248.]\n",
            " [189. 252.]\n",
            " [192. 256.]\n",
            " [195. 260.]\n",
            " [198. 264.]\n",
            " [201. 268.]\n",
            " [204. 272.]\n",
            " [207. 276.]\n",
            " [210. 280.]\n",
            " [213. 284.]\n",
            " [216. 288.]\n",
            " [219. 292.]\n",
            " [222. 296.]\n",
            " [225. 300.]\n",
            " [228. 304.]\n",
            " [231. 308.]\n",
            " [234. 312.]\n",
            " [237. 316.]\n",
            " [240. 320.]\n",
            " [243. 324.]\n",
            " [246. 328.]\n",
            " [249. 332.]\n",
            " [252. 336.]\n",
            " [255. 340.]\n",
            " [258. 344.]\n",
            " [261. 348.]\n",
            " [264. 352.]\n",
            " [267. 356.]\n",
            " [270. 360.]\n",
            " [273. 364.]\n",
            " [276. 368.]\n",
            " [279. 372.]\n",
            " [282. 376.]\n",
            " [285. 380.]\n",
            " [288. 384.]\n",
            " [291. 388.]\n",
            " [294. 392.]\n",
            " [297. 396.]]\n",
            "\n",
            " [[  0.   5.  10. ... 485. 490. 495.]\n",
            " [  5.   0.   5. ... 480. 485. 490.]\n",
            " [ 10.   5.   0. ... 475. 480. 485.]\n",
            " ...\n",
            " [485. 480. 475. ...   0.   5.  10.]\n",
            " [490. 485. 480. ...   5.   0.   5.]\n",
            " [495. 490. 485. ...  10.   5.   0.]]\n"
          ]
        }
      ],
      "source": [
        "import scipy.spatial\n",
        "a = np.zeros((100, 2))\n",
        "a[:, 0] = np.arange(100) * 3\n",
        "a[:, 1] = np.arange(100) * 4\n",
        "print(a)\n",
        "b = scipy.spatial.distance.cdist(a, a)\n",
        "print('\\n', b)"
      ]
    },
    {
      "cell_type": "markdown",
      "id": "f5c164f2",
      "metadata": {
        "id": "f5c164f2"
      },
      "source": [
        "#### 28. Как преобразовать массив с плавающей запятой (32 бита) в целое число (32 бита) с заменой?"
      ]
    },
    {
      "cell_type": "code",
      "execution_count": null,
      "id": "ea262de8",
      "metadata": {
        "id": "ea262de8",
        "colab": {
          "base_uri": "https://localhost:8080/"
        },
        "outputId": "69ccbbb7-e17e-4c83-cf8c-ab073ad594ae"
      },
      "outputs": [
        {
          "output_type": "stream",
          "name": "stdout",
          "text": [
            "[56.76905  66.1021   16.879765 27.9474   90.729416]\n",
            "[56 66 16 27 90]\n"
          ]
        }
      ],
      "source": [
        "a = (np.random.rand(5)*100).astype(np.float32)\n",
        "print(a)\n",
        "b = a.view(np.int32)\n",
        "b[:] = a\n",
        "print(b)"
      ]
    },
    {
      "cell_type": "markdown",
      "id": "a8b7e6f5",
      "metadata": {
        "id": "a8b7e6f5"
      },
      "source": [
        "#### 29. Создайте массив из следующего файла: (★★☆)\n",
        "```\n",
        "1, 2, 3, 4, 5\n",
        "6,  ,  , 7, 8\n",
        " ,  , 9,10,11\n",
        "```"
      ]
    },
    {
      "cell_type": "code",
      "execution_count": null,
      "id": "bde0538a",
      "metadata": {
        "id": "bde0538a",
        "colab": {
          "base_uri": "https://localhost:8080/"
        },
        "outputId": "c08ecbd6-a2fd-4b02-c738-14aa4e8618f9"
      },
      "outputs": [
        {
          "output_type": "stream",
          "name": "stdout",
          "text": [
            "[[ 1  2  3  4  5]\n",
            " [ 6 -1 -1  7  8]\n",
            " [-1 -1  9 10 11]]\n"
          ]
        }
      ],
      "source": [
        "from io import StringIO\n",
        "s = StringIO('''1, 2, 3, 4, 5\n",
        "\n",
        "                6,  ,  , 7, 8\n",
        "\n",
        "                 ,  , 9,10,11\n",
        "''')\n",
        "a = np.genfromtxt(s, delimiter=\",\", dtype=np.int8)\n",
        "print(a)"
      ]
    },
    {
      "cell_type": "markdown",
      "id": "bfd2513c",
      "metadata": {
        "id": "bfd2513c"
      },
      "source": [
        "#### 30. Вычтите среднее значение каждой строки случайной матрицы. (★★☆)"
      ]
    },
    {
      "cell_type": "code",
      "execution_count": null,
      "id": "f306ab72",
      "metadata": {
        "id": "f306ab72",
        "colab": {
          "base_uri": "https://localhost:8080/"
        },
        "outputId": "7f6578aa-ed9f-46e9-b34f-8f7bc31e9f26"
      },
      "outputs": [
        {
          "output_type": "stream",
          "name": "stdout",
          "text": [
            "[[0.84652054 0.39661149]\n",
            " [0.0231171  0.70359202]\n",
            " [0.30743013 0.21125422]\n",
            " [0.24992115 0.87553778]\n",
            " [0.82709565 0.67934582]]\n",
            "\n",
            " [[ 0.22495453 -0.22495453]\n",
            " [-0.34023746  0.34023746]\n",
            " [ 0.04808795 -0.04808795]\n",
            " [-0.31280832  0.31280832]\n",
            " [ 0.07387492 -0.07387492]]\n"
          ]
        }
      ],
      "source": [
        "a = np.random.rand(5, 2)\n",
        "print(a)\n",
        "b = a - a.mean(axis=1, keepdims=True)\n",
        "print('\\n', b)"
      ]
    },
    {
      "cell_type": "markdown",
      "id": "f30162d2",
      "metadata": {
        "id": "f30162d2"
      },
      "source": [
        "#### 31. Рассмотрим случайный вектор, как добавить 1 к каждому элементу, индексированному вторым вектором (будьте осторожны с повторяющимися индексами)? (★★★)"
      ]
    },
    {
      "cell_type": "code",
      "execution_count": null,
      "id": "093ba36f",
      "metadata": {
        "id": "093ba36f",
        "colab": {
          "base_uri": "https://localhost:8080/"
        },
        "outputId": "ad1d07ee-2e74-4ad1-fe0d-dba5da214c8d"
      },
      "outputs": [
        {
          "output_type": "stream",
          "name": "stdout",
          "text": [
            "[1. 1. 1. 1. 1. 1. 1. 1. 1. 1.]\n",
            "[3 1 1 2 2 3 1 7 6 5 4 8 6 9 3 1 2 0 9 2]\n",
            "[2. 5. 5. 4. 2. 2. 3. 2. 2. 3.]\n"
          ]
        }
      ],
      "source": [
        "a = np.ones(10)\n",
        "print(a)\n",
        "b = np.random.randint(0,len(a),20)\n",
        "print(b)\n",
        "a += np.bincount(b, minlength=len(a))\n",
        "print(a)"
      ]
    },
    {
      "cell_type": "markdown",
      "id": "f5b1c584",
      "metadata": {
        "id": "f5b1c584"
      },
      "source": [
        "#### 32. Как перенести элементы вектора (X) в массив (F) на основе списка индексов (I)? (★★★)"
      ]
    },
    {
      "cell_type": "code",
      "execution_count": null,
      "id": "c9d92a75",
      "metadata": {
        "id": "c9d92a75",
        "colab": {
          "base_uri": "https://localhost:8080/"
        },
        "outputId": "3aced590-e6f3-448f-c1fe-236507b4cc86"
      },
      "outputs": [
        {
          "output_type": "stream",
          "name": "stdout",
          "text": [
            "[15, 2, 23, 4, 9, 6]\n",
            "[1, 3, 1, 5, 6, 8]\n",
            "[ 0. 38.  0.  2.  0.  4.  9.  0.  6.]\n"
          ]
        }
      ],
      "source": [
        "a = [15,2,23,4,9,6]\n",
        "print(a)\n",
        "i = [1,3,1,5,6,8]\n",
        "print(i)\n",
        "c = np.bincount(i,a)\n",
        "print(c)"
      ]
    },
    {
      "cell_type": "markdown",
      "id": "4bddeb31",
      "metadata": {
        "id": "4bddeb31"
      },
      "source": [
        "#### 33. Рассматривая четырехмерный массив, как получить сумму сразу (в одну операцию) по двум последним осям? (★★★)"
      ]
    },
    {
      "cell_type": "code",
      "execution_count": null,
      "id": "32af15f5",
      "metadata": {
        "id": "32af15f5",
        "colab": {
          "base_uri": "https://localhost:8080/"
        },
        "outputId": "1a574785-142c-4ed2-8829-9ddd0691b929"
      },
      "outputs": [
        {
          "output_type": "stream",
          "name": "stdout",
          "text": [
            "[[[[1 0 1 0]\n",
            "   [1 0 1 0]\n",
            "   [0 1 0 0]]\n",
            "\n",
            "  [[1 0 0 0]\n",
            "   [0 1 0 0]\n",
            "   [1 0 1 0]]\n",
            "\n",
            "  [[1 1 1 0]\n",
            "   [1 0 0 0]\n",
            "   [0 0 0 0]]\n",
            "\n",
            "  [[0 0 1 1]\n",
            "   [1 0 0 1]\n",
            "   [1 0 0 0]]]\n",
            "\n",
            "\n",
            " [[[0 0 1 1]\n",
            "   [1 0 1 1]\n",
            "   [0 1 1 0]]\n",
            "\n",
            "  [[1 0 1 0]\n",
            "   [1 0 0 1]\n",
            "   [0 0 1 1]]\n",
            "\n",
            "  [[1 1 1 1]\n",
            "   [1 0 0 1]\n",
            "   [0 0 0 0]]\n",
            "\n",
            "  [[0 1 1 0]\n",
            "   [1 0 0 1]\n",
            "   [1 0 0 0]]]\n",
            "\n",
            "\n",
            " [[[1 0 1 1]\n",
            "   [1 0 1 0]\n",
            "   [1 1 1 0]]\n",
            "\n",
            "  [[0 0 1 0]\n",
            "   [1 1 0 1]\n",
            "   [0 1 1 1]]\n",
            "\n",
            "  [[1 1 1 0]\n",
            "   [1 0 1 1]\n",
            "   [1 0 0 1]]\n",
            "\n",
            "  [[1 1 0 0]\n",
            "   [0 1 1 1]\n",
            "   [0 0 0 0]]]]\n",
            "\n",
            " [[5 4 4 5]\n",
            " [7 6 6 5]\n",
            " [8 7 8 5]]\n"
          ]
        }
      ],
      "source": [
        "a = np.random.randint(0,2,(3,4,3,4))\n",
        "print(a)\n",
        "sum = a.reshape(a.shape[:-2] + (-1,)).sum(axis=-1)\n",
        "print('\\n', sum)"
      ]
    },
    {
      "cell_type": "markdown",
      "id": "de727a7b",
      "metadata": {
        "id": "de727a7b"
      },
      "source": [
        "#### 34. Рассмотрим вектор [1, 2, 3, 4, 5], как построить новый вектор с 3 последовательными нулями, чередующимися между каждым значением? (★★★)"
      ]
    },
    {
      "cell_type": "code",
      "execution_count": null,
      "id": "982be812",
      "metadata": {
        "id": "982be812",
        "colab": {
          "base_uri": "https://localhost:8080/"
        },
        "outputId": "026e09f1-7db1-425e-fc80-2d455a4e7db2"
      },
      "outputs": [
        {
          "output_type": "stream",
          "name": "stdout",
          "text": [
            "[1. 0. 0. 0. 2. 0. 0. 0. 3. 0. 0. 0. 4. 0. 0. 0. 5.]\n"
          ]
        }
      ],
      "source": [
        "a = np.array([1,2,3,4,5])\n",
        "b = np.zeros(len(a) + (len(a)-1)*(3))\n",
        "b[::3+1] = a\n",
        "print(b)"
      ]
    },
    {
      "cell_type": "markdown",
      "id": "a9a73d6b",
      "metadata": {
        "id": "a9a73d6b"
      },
      "source": [
        "#### 35. Рассмотрим массив размерности (5,5,3), как его умножить на массив размерностью (5,5)? (★★★)"
      ]
    },
    {
      "cell_type": "code",
      "execution_count": null,
      "id": "282a90cc",
      "metadata": {
        "id": "282a90cc",
        "colab": {
          "base_uri": "https://localhost:8080/"
        },
        "outputId": "e304bd39-457e-481c-d42b-fafd1bc56e98"
      },
      "outputs": [
        {
          "output_type": "stream",
          "name": "stdout",
          "text": [
            "[[[1. 1. 1.]\n",
            "  [1. 1. 1.]\n",
            "  [1. 1. 1.]\n",
            "  [1. 1. 1.]\n",
            "  [1. 1. 1.]]\n",
            "\n",
            " [[1. 1. 1.]\n",
            "  [1. 1. 1.]\n",
            "  [1. 1. 1.]\n",
            "  [1. 1. 1.]\n",
            "  [1. 1. 1.]]\n",
            "\n",
            " [[1. 1. 1.]\n",
            "  [1. 1. 1.]\n",
            "  [1. 1. 1.]\n",
            "  [1. 1. 1.]\n",
            "  [1. 1. 1.]]\n",
            "\n",
            " [[1. 1. 1.]\n",
            "  [1. 1. 1.]\n",
            "  [1. 1. 1.]\n",
            "  [1. 1. 1.]\n",
            "  [1. 1. 1.]]\n",
            "\n",
            " [[1. 1. 1.]\n",
            "  [1. 1. 1.]\n",
            "  [1. 1. 1.]\n",
            "  [1. 1. 1.]\n",
            "  [1. 1. 1.]]]\n",
            "\n",
            " [[2. 2. 2. 2. 2.]\n",
            " [2. 2. 2. 2. 2.]\n",
            " [2. 2. 2. 2. 2.]\n",
            " [2. 2. 2. 2. 2.]\n",
            " [2. 2. 2. 2. 2.]]\n",
            "\n",
            " a*b = \n",
            " [[[2. 2. 2.]\n",
            "  [2. 2. 2.]\n",
            "  [2. 2. 2.]\n",
            "  [2. 2. 2.]\n",
            "  [2. 2. 2.]]\n",
            "\n",
            " [[2. 2. 2.]\n",
            "  [2. 2. 2.]\n",
            "  [2. 2. 2.]\n",
            "  [2. 2. 2.]\n",
            "  [2. 2. 2.]]\n",
            "\n",
            " [[2. 2. 2.]\n",
            "  [2. 2. 2.]\n",
            "  [2. 2. 2.]\n",
            "  [2. 2. 2.]\n",
            "  [2. 2. 2.]]\n",
            "\n",
            " [[2. 2. 2.]\n",
            "  [2. 2. 2.]\n",
            "  [2. 2. 2.]\n",
            "  [2. 2. 2.]\n",
            "  [2. 2. 2.]]\n",
            "\n",
            " [[2. 2. 2.]\n",
            "  [2. 2. 2.]\n",
            "  [2. 2. 2.]\n",
            "  [2. 2. 2.]\n",
            "  [2. 2. 2.]]]\n"
          ]
        }
      ],
      "source": [
        "a = np.ones((5,5,3))\n",
        "print(a)\n",
        "b = 2*np.ones((5,5))\n",
        "print('\\n',b)\n",
        "print(f'\\n a*b = \\n',a * b[:,:,None])"
      ]
    },
    {
      "cell_type": "markdown",
      "id": "b50adf7c",
      "metadata": {
        "id": "b50adf7c"
      },
      "source": [
        "#### 36. Как вычислить средние значения, используя скользящее окно по массиву? (★★★)"
      ]
    },
    {
      "cell_type": "code",
      "execution_count": null,
      "id": "e631a9d2",
      "metadata": {
        "id": "e631a9d2",
        "colab": {
          "base_uri": "https://localhost:8080/"
        },
        "outputId": "c6bae3d8-36ef-4b30-c007-da41143f1326"
      },
      "outputs": [
        {
          "output_type": "stream",
          "name": "stdout",
          "text": [
            "[ 0  1  2  3  4  5  6  7  8  9 10 11 12 13 14 15 16 17 18 19]\n",
            "[ 1.  2.  3.  4.  5.  6.  7.  8.  9. 10. 11. 12. 13. 14. 15. 16. 17. 18.]\n"
          ]
        }
      ],
      "source": [
        "from numpy.lib.stride_tricks import sliding_window_view\n",
        "a = np.arange(20)\n",
        "print(a)\n",
        "print(sliding_window_view(a, window_shape=3).mean(axis=-1))"
      ]
    },
    {
      "cell_type": "markdown",
      "id": "1ab4c50d",
      "metadata": {
        "id": "1ab4c50d"
      },
      "source": [
        "#### 37. Рассмотрим одномерный массив Z, постройте из него двумерный массив, первая строка которого (Z[0],Z[1],Z[2]), а каждая последующая строка сдвинута на 1 (последняя строка должна быть (Z[ -3],Z[-2],Z[-1]) (★★★)"
      ]
    },
    {
      "cell_type": "code",
      "execution_count": null,
      "id": "3ccfe2c0",
      "metadata": {
        "id": "3ccfe2c0",
        "colab": {
          "base_uri": "https://localhost:8080/"
        },
        "outputId": "c060ce85-de46-48f4-bac3-bd7332e8de88"
      },
      "outputs": [
        {
          "output_type": "stream",
          "name": "stdout",
          "text": [
            "[0 1 2 3 4 5 6 7 8 9]\n",
            "[[0 1 2]\n",
            " [1 2 3]\n",
            " [2 3 4]\n",
            " [3 4 5]\n",
            " [4 5 6]\n",
            " [5 6 7]\n",
            " [6 7 8]\n",
            " [7 8 9]]\n"
          ]
        }
      ],
      "source": [
        "a = np.arange(10)\n",
        "print(a)\n",
        "print(sliding_window_view(a, window_shape=3))"
      ]
    },
    {
      "cell_type": "markdown",
      "id": "e5e7f323",
      "metadata": {
        "id": "e5e7f323"
      },
      "source": [
        "#### 38. Рассмотрим 2 набора точек P0,P1, описывающих линии (2d), и набор точек P. Как вычислить расстояние от каждой точки j (P[j]) до каждой линии i (P0[i],P1[i])?(★★★)"
      ]
    },
    {
      "cell_type": "code",
      "execution_count": null,
      "id": "d0ce77e2",
      "metadata": {
        "id": "d0ce77e2",
        "colab": {
          "base_uri": "https://localhost:8080/"
        },
        "outputId": "1d6c6cc9-2517-48f9-a57e-34868124b218"
      },
      "outputs": [
        {
          "output_type": "stream",
          "name": "stdout",
          "text": [
            "Координаты точки: \n",
            " [[3 1]\n",
            " [0 9]\n",
            " [4 1]\n",
            " [4 8]\n",
            " [4 2]]\n",
            "Расстояния:\n",
            " [[3.85695556 6.26099034 2.42535625 2.6        0.32539569]\n",
            " [0.84664878 0.4472136  6.06339063 0.2        8.78568354]\n",
            " [3.10437887 5.81377674 2.66789188 1.8        0.10846523]\n",
            " [1.50515339 0.4472136  4.12310563 2.4        6.94177465]\n",
            " [2.44587426 4.91934955 1.69774938 1.2        1.08465229]]\n"
          ]
        }
      ],
      "source": [
        "P0 = np.random.randint(0,10,(5,2))\n",
        "P1 = np.random.randint(0,10,(5,2))\n",
        "p =  np.random.randint(0, 10, (5,2))\n",
        "print('Координаты точки: \\n', p)\n",
        "print(f'Расстояния:\\n',np.array([distance(P0,P1,p_i) for p_i in p]))"
      ]
    },
    {
      "cell_type": "markdown",
      "id": "27794913",
      "metadata": {
        "id": "27794913"
      },
      "source": [
        "#### 39. Рассмотрим массив Z = [1,2,3,4,5,6,7,8,9,10,11,12,13,14], как сгенерировать массив R = [[1,2,3, 4], [2,3,4,5], [3,4,5,6], ..., [11,12,13,14]]? (★★★)"
      ]
    },
    {
      "cell_type": "code",
      "execution_count": null,
      "id": "f3e7878b",
      "metadata": {
        "id": "f3e7878b",
        "colab": {
          "base_uri": "https://localhost:8080/"
        },
        "outputId": "d6f5e0ba-e369-4b3d-e7c5-d02f01adc6b3"
      },
      "outputs": [
        {
          "output_type": "stream",
          "name": "stdout",
          "text": [
            "[[ 1  2  3  4]\n",
            " [ 2  3  4  5]\n",
            " [ 3  4  5  6]\n",
            " [ 4  5  6  7]\n",
            " [ 5  6  7  8]\n",
            " [ 6  7  8  9]\n",
            " [ 7  8  9 10]\n",
            " [ 8  9 10 11]\n",
            " [ 9 10 11 12]\n",
            " [10 11 12 13]\n",
            " [11 12 13 14]]\n"
          ]
        }
      ],
      "source": [
        "a = np.arange(1,15,dtype=np.uint32)\n",
        "b = stride_tricks.as_strided(a,(11,4),(4,4))\n",
        "print(b)"
      ]
    },
    {
      "cell_type": "markdown",
      "id": "fae786f5",
      "metadata": {
        "id": "fae786f5"
      },
      "source": [
        "#### 40. Найдите ранг случайной матрицы (★★★)"
      ]
    },
    {
      "cell_type": "code",
      "execution_count": null,
      "id": "64b9615b",
      "metadata": {
        "id": "64b9615b",
        "colab": {
          "base_uri": "https://localhost:8080/"
        },
        "outputId": "26b06e69-c438-4a39-bf5f-6dcefbec154f"
      },
      "outputs": [
        {
          "output_type": "stream",
          "name": "stdout",
          "text": [
            "[[1 1 0 0 0 1 1 1 0 0]\n",
            " [0 0 1 1 0 1 0 1 0 1]\n",
            " [1 1 0 0 0 0 1 1 0 0]\n",
            " [1 0 0 1 0 0 0 0 0 1]\n",
            " [1 1 0 0 0 1 1 1 1 1]\n",
            " [1 0 1 0 0 0 0 1 1 0]\n",
            " [0 1 1 0 1 0 0 0 0 1]\n",
            " [1 0 0 0 1 1 0 1 0 0]\n",
            " [0 1 0 0 0 1 1 1 1 0]\n",
            " [0 0 0 0 0 0 1 1 0 1]]\n",
            "Ранг = 10\n"
          ]
        }
      ],
      "source": [
        "N = 10\n",
        "a = np.random.randint(2,size=(N,N))\n",
        "print(a)\n",
        "rank = np.linalg.matrix_rank(a)\n",
        "print(f'Ранг =', rank)"
      ]
    },
    {
      "cell_type": "markdown",
      "id": "c85aa0b9",
      "metadata": {
        "id": "c85aa0b9"
      },
      "source": [
        "#### 41. Как найти наиболее часто встречающееся значение в массиве?"
      ]
    },
    {
      "cell_type": "code",
      "execution_count": null,
      "id": "056be85b",
      "metadata": {
        "id": "056be85b",
        "colab": {
          "base_uri": "https://localhost:8080/"
        },
        "outputId": "48b3daed-50b7-43b7-be13-cc0dccfca5bd"
      },
      "outputs": [
        {
          "output_type": "stream",
          "name": "stdout",
          "text": [
            "[ 8 11  5  3  0 18 13  6  2  2  1  1 13  1  4 10  4  2  0  1 19 13  1  0\n",
            " 10  9  8  1  7 16]\n",
            "1\n"
          ]
        }
      ],
      "source": [
        "a = np.random.randint(0,20,30)\n",
        "print(a)\n",
        "print(np.bincount(a).argmax())"
      ]
    },
    {
      "cell_type": "markdown",
      "id": "d614fee4",
      "metadata": {
        "id": "d614fee4"
      },
      "source": [
        "#### 42. Рассмотрим два массива A и B формы (8,3) и (2,2). Как найти строки A, содержащие элементы каждой строки B, независимо от порядка элементов в B? (★★★)"
      ]
    },
    {
      "cell_type": "code",
      "execution_count": null,
      "id": "e6807a84",
      "metadata": {
        "id": "e6807a84",
        "colab": {
          "base_uri": "https://localhost:8080/"
        },
        "outputId": "c438f94f-0018-4186-badd-2a4467a1ee88"
      },
      "outputs": [
        {
          "output_type": "stream",
          "name": "stdout",
          "text": [
            "A:\n",
            " [[0 1 0]\n",
            " [3 1 0]\n",
            " [2 3 1]\n",
            " [3 3 2]\n",
            " [1 1 4]\n",
            " [3 2 3]\n",
            " [4 2 4]\n",
            " [3 4 2]]\n",
            "В:\n",
            " [[2 3]\n",
            " [1 1]]\n",
            "Cтроки: [1 2]\n"
          ]
        }
      ],
      "source": [
        "A = np.random.randint(0,5,(8,3))\n",
        "print('A:\\n', A)\n",
        "B = np.random.randint(0,5,(2,2))\n",
        "print('В:\\n', B)\n",
        "C = (A[..., np.newaxis, np.newaxis] == B)\n",
        "index_rows = np.where(C.any((3,1)).all(1))[0]\n",
        "print('Cтроки:', index_rows)"
      ]
    },
    {
      "cell_type": "markdown",
      "id": "75b9397f",
      "metadata": {
        "id": "75b9397f"
      },
      "source": [
        "#### 43. Как извлечь уникальные значения из 2-х двумерных массивов?(★★★)"
      ]
    },
    {
      "cell_type": "code",
      "execution_count": null,
      "id": "9bb56a47",
      "metadata": {
        "id": "9bb56a47",
        "colab": {
          "base_uri": "https://localhost:8080/"
        },
        "outputId": "2b359028-9bde-4523-cd97-4f3b6ccab71a"
      },
      "outputs": [
        {
          "output_type": "stream",
          "name": "stdout",
          "text": [
            "[[6 4 9 6 2 9]\n",
            " [3 7 7 6 1 3]]\n",
            "\n",
            " [1 2 3 4 6 7 9]\n"
          ]
        }
      ],
      "source": [
        "a = np. array([ [ 6, 4, 9, 6, 2, 9 ], [ 3, 7, 7, 6, 1, 3 ] ])\n",
        "print(a)\n",
        "b, index_array = np. unique(a, return_index = True)\n",
        "print(\"\\n\",b)"
      ]
    }
  ],
  "metadata": {
    "colab": {
      "provenance": [],
      "include_colab_link": true
    },
    "language_info": {
      "name": "python"
    },
    "kernelspec": {
      "name": "python3",
      "display_name": "Python 3"
    },
    "gpuClass": "standard"
  },
  "nbformat": 4,
  "nbformat_minor": 5
}